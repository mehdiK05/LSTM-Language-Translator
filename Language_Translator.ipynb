{
  "nbformat": 4,
  "nbformat_minor": 0,
  "metadata": {
    "colab": {
      "provenance": [],
      "toc_visible": true,
      "authorship_tag": "ABX9TyP/1+0lRbqVP9fCgLH9fkCz"
    },
    "kernelspec": {
      "name": "python3",
      "display_name": "Python 3"
    },
    "language_info": {
      "name": "python"
    }
  },
  "cells": [
    {
      "cell_type": "code",
      "execution_count": 1,
      "metadata": {
        "id": "OAAyZ1xnn9Vl"
      },
      "outputs": [],
      "source": [
        "import torch\n",
        "import torch.nn as nn\n",
        "import torch.optim as optim\n",
        "import torch.nn.functional as F\n",
        "import numpy as np"
      ]
    },
    {
      "cell_type": "markdown",
      "source": [
        "#Encoder\n"
      ],
      "metadata": {
        "id": "tu2Sxjp5fO3o"
      }
    },
    {
      "cell_type": "code",
      "source": [
        "class Encoder(nn.Module):\n",
        "  def __init__(input_dim, embed_dim, hidden_dim, num_layers, dropout):\n",
        "    super().__init__()\n",
        "    self.embed = nn.Embedding(input_dim,embed_dim)\n",
        "    self.rnn = nn.LSTM(embed_dim, hidden_dim, num_layers,bidirectional = True)\n",
        "    self.dropout = nn.Dropout(dropout)\n",
        "\n",
        "  def forward(self, X):\n",
        "    embeddings = self.dropout(self.embed(x))\n",
        "    encoder_outs, hidden = self.rnn(embeddings)\n",
        "\n",
        "    return self.dropout(encoder_outs), hidden\n"
      ],
      "metadata": {
        "id": "cSv-f2Rs-xJ3"
      },
      "execution_count": 2,
      "outputs": []
    },
    {
      "cell_type": "code",
      "source": [],
      "metadata": {
        "id": "3jzmXCsL_yOD"
      },
      "execution_count": null,
      "outputs": []
    },
    {
      "cell_type": "code",
      "source": [],
      "metadata": {
        "id": "i0Ie0cBPAWnQ"
      },
      "execution_count": null,
      "outputs": []
    },
    {
      "cell_type": "markdown",
      "source": [
        "#Decoder"
      ],
      "metadata": {
        "id": "Mk47Udv4AbUc"
      }
    },
    {
      "cell_type": "code",
      "source": [],
      "metadata": {
        "id": "jV7oAqZ2AdYW"
      },
      "execution_count": null,
      "outputs": []
    }
  ]
}